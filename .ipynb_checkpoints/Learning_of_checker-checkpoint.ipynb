{
 "cells": [
  {
   "cell_type": "markdown",
   "id": "e5ac67c1-bb0d-49bb-a40a-d1f0b2b287fb",
   "metadata": {},
   "source": [
    "# Обработка входных данных"
   ]
  },
  {
   "cell_type": "code",
   "execution_count": 1,
   "id": "3ecb1d4e-1ac5-4649-8228-88fcfdf559dc",
   "metadata": {},
   "outputs": [
    {
     "name": "stdout",
     "output_type": "stream",
     "text": [
      "cuda\n"
     ]
    }
   ],
   "source": [
    "import os\n",
    "import zipfile\n",
    "from pathlib import Path\n",
    "from random import shuffle\n",
    "from PIL import Image\n",
    "import shutil\n",
    "import torch\n",
    "\n",
    "# Configurations\n",
    "IMAGENET_ARCHIVE = \"archive.zip\"  # Name of Tiny ImageNet ZIP file\n",
    "DOGS_VS_CATS_ARCHIVE = \"dogs-vs-cats.zip\"  # Name of Dogs-vs-Cats ZIP file\n",
    "EXTRACT_DIR = \"extracted_data\"  # Directory for extracted datasets\n",
    "OUTPUT_DIR = \"processed_data\"  # Directory for the prepared dataset\n",
    "CLASS_NAMES = [\"cats\", \"dogs\", \"other\"]  # Target classes\n",
    "BALANCED_SIZE = 12500  # Number of images per class\n",
    "IMG_HEIGHT = 64\n",
    "IMG_WIDTH = 64\n",
    "device = torch.device(\"cuda\" if torch.cuda.is_available() else \"cpu\")\n",
    "print(device)"
   ]
  },
  {
   "cell_type": "code",
   "execution_count": 2,
   "id": "05481304-a66f-4511-9570-a2816a19f05a",
   "metadata": {},
   "outputs": [
    {
     "name": "stdout",
     "output_type": "stream",
     "text": [
      "Datasets already extracted.\n"
     ]
    }
   ],
   "source": [
    "def extract_zip(zip_path, extract_to):\n",
    "    with zipfile.ZipFile(zip_path, 'r') as zf:\n",
    "        zf.extractall(extract_to)\n",
    "    print(f\"Extracted {zip_path} to {extract_to}\")\n",
    "\n",
    "# Resize and save image\n",
    "import torchvision.transforms as transforms\n",
    "import random\n",
    "\n",
    "def resize_and_save(image_path, output_path, size=(64, 64)):\n",
    "    try:\n",
    "        with Image.open(image_path) as img:\n",
    "            img = img.convert(\"RGB\")  # Ensure 3 channels\n",
    "            img = img.resize(size, Image.Resampling.LANCZOS)  # Updated from ANTIALIAS\n",
    "            img.save(output_path)\n",
    "    except Exception as e:\n",
    "        print(f\"Error processing {image_path}: {e}\")\n",
    "\n",
    "def prepare_class(source_paths, output_class_dir, limit, label_filter=None, exclude_labels=None):\n",
    "    \"\"\"\n",
    "    Prepares data for a specific class by resizing and saving images.\n",
    "    \"\"\"\n",
    "    all_images = []\n",
    "\n",
    "    for path in source_paths:\n",
    "        if \"dogs-vs-cats\" in path:  # Handle Dogs-vs-Cats dataset\n",
    "            for file in Path(path).rglob(\"*.jpg\"):\n",
    "                if label_filter:\n",
    "                    # Include only files with the specified label in the name\n",
    "                    if file.name.startswith(label_filter):\n",
    "                        all_images.append(file)\n",
    "                else:\n",
    "                    all_images.append(file)\n",
    "\n",
    "        elif \"tiny-imagenet-200\" in path:  # Handle Tiny ImageNet dataset\n",
    "            if \"train\" in path:\n",
    "                for subfolder in Path(path).iterdir():\n",
    "                    if exclude_labels and subfolder.name in exclude_labels:\n",
    "                        continue  # Skip subfolders corresponding to excluded labels\n",
    "                    images_folder = subfolder / \"images\"\n",
    "                    if images_folder.exists():\n",
    "                        all_images.extend(images_folder.rglob(\"*.jpeg\"))\n",
    "            elif \"test\" in path:\n",
    "                all_images.extend(Path(path).rglob(\"*.jpeg\"))\n",
    "\n",
    "    # Shuffle and limit the dataset size\n",
    "    shuffle(all_images)\n",
    "    all_images = all_images[:limit]\n",
    "\n",
    "    # Ensure output directory exists\n",
    "    os.makedirs(output_class_dir, exist_ok=True)\n",
    "\n",
    "    # Resize and save images\n",
    "    for idx, img_path in enumerate(all_images):\n",
    "        output_path = os.path.join(output_class_dir, f\"{idx}.jpg\")\n",
    "        resize_and_save(img_path, output_path, size=(IMG_WIDTH, IMG_HEIGHT))\n",
    "\n",
    "\n",
    "if not os.path.exists(EXTRACT_DIR):\n",
    "    os.makedirs(EXTRACT_DIR, exist_ok=True)\n",
    "    print(\"Extracting datasets...\")\n",
    "    extract_zip(IMAGENET_ARCHIVE, EXTRACT_DIR)\n",
    "    extract_zip(DOGS_VS_CATS_ARCHIVE, EXTRACT_DIR)\n",
    "else:\n",
    "    print(\"Datasets already extracted.\")\n",
    "\n",
    "\n",
    "#### Пометим из Tiny-ImageNet классы, отвечающие за кошек и собак"
   ]
  },
  {
   "cell_type": "code",
   "execution_count": 3,
   "id": "aa0ad77b-f654-45d3-a484-a595b6d80e5d",
   "metadata": {},
   "outputs": [],
   "source": [
    "cat_dog_class_ids = {\n",
    "    \"n02085620\",\n",
    "    \"n02094433\",\n",
    "    \"n02099601\",\n",
    "    \"n02099712\", \n",
    "    \"n02106662\",\n",
    "    \"n02113799\",\n",
    "    \"n02123045\", \n",
    "    \"n02123394\",\n",
    "    \"n02124075\",\n",
    "}"
   ]
  },
  {
   "cell_type": "markdown",
   "id": "28a0f079-b983-40a2-b265-74f434fdddc9",
   "metadata": {},
   "source": [
    "#### Соберём сам датасет в df и рассплитим его на тренировочный и тестовый"
   ]
  },
  {
   "cell_type": "code",
   "execution_count": 4,
   "id": "032b0c59-b62f-4a10-8dcf-52701631a198",
   "metadata": {},
   "outputs": [],
   "source": [
    "dogs_vs_cats_train = os.path.join(EXTRACT_DIR, \"dogs-vs-cats\", \"train\")\n",
    "tiny_imagenet_train = os.path.join(EXTRACT_DIR, \"tiny-imagenet-200\", \"train\")\n",
    "\n",
    "# Prepare \"cats\" class\n",
    "if not os.path.exists(os.path.join(OUTPUT_DIR, \"cats\")):\n",
    "    prepare_class(\n",
    "        source_paths=[dogs_vs_cats_train],\n",
    "        output_class_dir=os.path.join(OUTPUT_DIR, \"cats\"),\n",
    "        limit=BALANCED_SIZE,\n",
    "        label_filter=\"cat\"\n",
    "    )\n",
    "\n",
    "# Prepare \"dogs\" class\n",
    "if not os.path.exists(os.path.join(OUTPUT_DIR, \"dogs\")):\n",
    "    prepare_class(\n",
    "        source_paths=[dogs_vs_cats_train],\n",
    "        output_class_dir=os.path.join(OUTPUT_DIR, \"dogs\"),\n",
    "        limit=BALANCED_SIZE,\n",
    "        label_filter=\"dog\"\n",
    "    )\n",
    "\n",
    "# Prepare \"other\" class\n",
    "if not os.path.exists(os.path.join(OUTPUT_DIR, \"other\")):\n",
    "    prepare_class(\n",
    "        source_paths=[tiny_imagenet_train],\n",
    "        output_class_dir=os.path.join(OUTPUT_DIR, \"other\"),\n",
    "        limit=BALANCED_SIZE,\n",
    "        exclude_labels=cat_dog_class_ids\n",
    "    )"
   ]
  },
  {
   "cell_type": "markdown",
   "id": "a17445df-edff-4361-8e2e-87ec52fc0c70",
   "metadata": {},
   "source": [
    "# Обучаем сетки"
   ]
  },
  {
   "cell_type": "code",
   "execution_count": 5,
   "id": "adb13afd-8044-4055-8c7f-463594f7c82a",
   "metadata": {},
   "outputs": [],
   "source": [
    "import pandas as pd\n",
    "from sklearn.model_selection import train_test_split\n",
    "import numpy as np\n",
    "import torch\n",
    "import torch.nn as nn\n",
    "import torch.nn.functional as F\n",
    "from torch.autograd import Variable\n",
    "import torchvision.datasets as dsets\n",
    "import torchvision.transforms as transforms\n",
    "import torch.optim as optim\n",
    "from torch.utils.data.sampler import SubsetRandomSampler\n",
    "from IPython.display import clear_output\n",
    "from torch.utils.data import DataLoader, Dataset"
   ]
  },
  {
   "cell_type": "markdown",
   "id": "391c7e01-a9a5-431e-9dcd-8ef8d3d923a6",
   "metadata": {},
   "source": [
    "#### Самописный датасет для DataLoader"
   ]
  },
  {
   "cell_type": "code",
   "execution_count": 6,
   "id": "534a61ae-1c92-4719-8832-82827badccf6",
   "metadata": {},
   "outputs": [],
   "source": [
    "def make_loader(df, batch_size=32, shuffle=True):\n",
    "    transform = transforms.Compose([\n",
    "        transforms.ToTensor(),\n",
    "        transforms.Normalize(mean=[0.485, 0.456, 0.406], std=[0.229, 0.224, 0.225]),\n",
    "    ])\n",
    "\n",
    "    class InlineDataset(Dataset):\n",
    "        def __init__(self, dataframe):\n",
    "            self.dataframe = dataframe\n",
    "\n",
    "        def __len__(self):\n",
    "            return len(self.dataframe)\n",
    "\n",
    "        def __getitem__(self, idx):\n",
    "            # Get the row from the DataFrame\n",
    "            row = self.dataframe.iloc[idx]\n",
    "            img_path = row[\"file_path\"]\n",
    "            label = row[\"binary_label\"]\n",
    "\n",
    "            # Load and transform the image\n",
    "            image = Image.open(img_path)\n",
    "            image = transform(image)\n",
    "\n",
    "            return image.to(device), torch.tensor(label).to(device)\n",
    "\n",
    "    dataset = InlineDataset(df)\n",
    "    dataloader = DataLoader(dataset, batch_size=batch_size, shuffle=shuffle)\n",
    "\n",
    "    return dataloader"
   ]
  },
  {
   "cell_type": "code",
   "execution_count": 7,
   "id": "c2cbf10c-3843-434a-bb8b-6e5687ffbee4",
   "metadata": {},
   "outputs": [],
   "source": [
    "BATCH_SIZE = 32\n",
    "NUM_CLASSES = 3\n",
    "EPOCHS = 10"
   ]
  },
  {
   "cell_type": "markdown",
   "id": "20052604-32b3-461c-b5e6-135b1ac4776a",
   "metadata": {},
   "source": [
    "#### Поделим данные и переведём в тензоры"
   ]
  },
  {
   "cell_type": "code",
   "execution_count": 8,
   "id": "47e5afff-e8c0-4cb4-8bbc-3f6f0519c928",
   "metadata": {},
   "outputs": [
    {
     "name": "stdout",
     "output_type": "stream",
     "text": [
      "30000\n",
      "7500\n"
     ]
    }
   ],
   "source": [
    "data = []\n",
    "for label, class_name in enumerate(CLASS_NAMES):\n",
    "    class_path = os.path.join(OUTPUT_DIR, class_name)\n",
    "    for file_name in os.listdir(class_path):\n",
    "        if file_name.endswith(('jpg', 'jpeg', 'png')):  # Adjust extensions as needed\n",
    "            file_path = os.path.join(class_path, file_name)\n",
    "            data.append((file_path, label))  # (file path, label)\n",
    "\n",
    "# Convert to DataFrame\n",
    "df = pd.DataFrame(data, columns=[\"file_path\", \"label\"])\n",
    "\n",
    "# Split data into train and test sets\n",
    "train_data, test_data = train_test_split(df, test_size=0.2, random_state=42)\n",
    "print(len(train_data))\n",
    "print(len(test_data))"
   ]
  },
  {
   "cell_type": "markdown",
   "id": "36889367-42d1-4b79-b6f1-59c8c12869d8",
   "metadata": {},
   "source": [
    "#### Функции для обучения"
   ]
  },
  {
   "cell_type": "code",
   "execution_count": 9,
   "id": "a376574d-d11f-4ce4-b701-2eb523e085a5",
   "metadata": {},
   "outputs": [],
   "source": [
    "def init_early_stopping(patience=5, delta=0, save_path=\"best_model.pth\"):\n",
    "    return {\n",
    "        \"patience\": patience,\n",
    "        \"delta\": delta,\n",
    "        \"save_path\": save_path,\n",
    "        \"best_score\": None,\n",
    "        \"counter\": 0,\n",
    "        \"early_stop\": False\n",
    "    }\n",
    "\n",
    "# Функция для проверки состояния Early Stopping\n",
    "def check_early_stopping(val_loss, model, state):\n",
    "    score = -val_loss  # Отрицательная потеря для логики \"higher is better\"\n",
    "\n",
    "    if state[\"best_score\"] is None:\n",
    "        state[\"best_score\"] = score\n",
    "        save_checkpoint(val_loss, model, state[\"save_path\"])\n",
    "    elif score < state[\"best_score\"] + state[\"delta\"]:\n",
    "        state[\"counter\"] += 1\n",
    "        print(f\"EarlyStopping counter: {state['counter']} out of {state['patience']}\")\n",
    "        if state[\"counter\"] >= state[\"patience\"]:\n",
    "            state[\"early_stop\"] = True\n",
    "    else:\n",
    "        state[\"best_score\"] = score\n",
    "        save_checkpoint(val_loss, model, state[\"save_path\"])\n",
    "        state[\"counter\"] = 0\n",
    "\n",
    "# Функция для сохранения лучшей модели\n",
    "def save_checkpoint(val_loss, model, save_path):\n",
    "    print(f\"Validation loss decreased. Saving model to {save_path}...\")\n",
    "    torch.save(model.state_dict(), save_path)"
   ]
  },
  {
   "cell_type": "code",
   "execution_count": 10,
   "id": "ed02703e-1e1c-4808-80ec-bb82fb61c26b",
   "metadata": {},
   "outputs": [],
   "source": [
    "import matplotlib.pyplot as plt\n",
    "def plot_history(train_history, val_history, title='loss'):\n",
    "    plt.figure()\n",
    "    plt.title('{}'.format(title))\n",
    "    plt.plot(train_history, label='train', zorder=1)\n",
    "    \n",
    "    points = np.array(val_history)\n",
    "    \n",
    "    plt.scatter(points[:, 0], points[:, 1], marker='+', s=180, c='orange', label='val', zorder=2)\n",
    "    plt.xlabel('train steps')\n",
    "    \n",
    "    plt.legend(loc='best')\n",
    "    plt.grid()\n",
    "\n",
    "    plt.show()"
   ]
  },
  {
   "cell_type": "code",
   "execution_count": 11,
   "id": "3c35998c-f7c4-41bf-9402-4cab7f6b39c9",
   "metadata": {},
   "outputs": [],
   "source": [
    "def train(model, opt, criterion, n_epochs):\n",
    "    train_log, train_acc_log = [], []\n",
    "    val_log, val_acc_log = [], []\n",
    "    for epoch in range(n_epochs):\n",
    "        print(f\"Epoch {epoch}/{n_epochs}\")\n",
    "        print(\"Training...\")\n",
    "        train_loss, train_acc = train_epoch(model, opt, criterion, batchsize=BATCH_SIZE)\n",
    "        print(\"Done\\nValidating...\")\n",
    "        val_loss, val_acc = test(model, criterion)\n",
    "        print(\"Done\")\n",
    "        train_log.extend(train_loss)\n",
    "        train_acc_log.extend(train_acc)\n",
    "\n",
    "        steps = (BALANCED_SIZE * 3 * 0.8) / BATCH_SIZE\n",
    "        val_log.append((steps * (epoch + 1), np.mean(val_loss)))\n",
    "        val_acc_log.append((steps * (epoch + 1), np.mean(val_acc)))\n",
    "\n",
    "        clear_output()\n",
    "        plot_history(train_log, val_log)    \n",
    "        plot_history(train_acc_log, val_acc_log, title='accuracy')  \n",
    "\n",
    "        if early_stopping_state[\"early_stop\"]:\n",
    "            print(\"Early stopping triggered. Stopping training.\")\n",
    "            break\n"
   ]
  },
  {
   "cell_type": "code",
   "execution_count": 12,
   "id": "1cc3a6f1-efd1-4a1a-b30a-4be81c0874a9",
   "metadata": {},
   "outputs": [],
   "source": [
    "def test(model, criterion):\n",
    "    loss_log, acc_log = [], []\n",
    "    model.eval()\n",
    "    for batch_num, (x_batch, y_batch) in enumerate(test_loader):   \n",
    "        # print(f\"Batch {batch_num}/{len(test_loader)}\")\n",
    "        x_batch = x_batch.to(device)\n",
    "        y_batch = y_batch.to(device)\n",
    "        data = Variable(x_batch).to(device)\n",
    "        target = Variable(y_batch)\n",
    "        target = target.type(torch.LongTensor) \n",
    "        target = target.to(device)\n",
    "\n",
    "        output = model(data).squeeze(1)\n",
    "        loss = criterion(output, target.float()).cuda()\n",
    "\n",
    "        sigmoid = nn.Sigmoid()\n",
    "        pred = (sigmoid(output) > 0.5).type(torch.LongTensor).cuda()\n",
    "        acc = np.mean((pred == y_batch).cpu().numpy())\n",
    "        \n",
    "        acc_log.append(acc)\n",
    "        \n",
    "        loss = loss.item()\n",
    "        loss_log.append(loss)\n",
    "    print(loss_log)\n",
    "    return loss_log, acc_log"
   ]
  },
  {
   "cell_type": "code",
   "execution_count": 13,
   "id": "4adaf0a3-e750-4f8f-a3cb-525a14fe2b1e",
   "metadata": {},
   "outputs": [],
   "source": [
    "def train_epoch(model, optimizer, criterion, batchsize=32): \n",
    "    loss_log, acc_log = [], []\n",
    "    model.train()\n",
    "    for batch_num, (x_batch, y_batch) in enumerate(train_loader):\n",
    "        print(f\"Batch {batch_num}/{len(train_loader)}\")\n",
    "        x_batch = x_batch.to(device)\n",
    "        # y_batch = torch.unsqueeze(y_batch, 1)\n",
    "        y_batch = y_batch.to(device)\n",
    "        # print(y_batch.shape)\n",
    "        data = Variable(x_batch).to(device)\n",
    "        target = Variable(y_batch)\n",
    "        target = target.type(torch.LongTensor) \n",
    "        target = target.to(device)\n",
    "        # print(y_batch.shape)\n",
    "        # print(target.shape)\n",
    "\n",
    "        output = model(data).squeeze(1)\n",
    "        # print(output.shape)\n",
    "        # pred = torch.argmax(output, dim=1, keepdim = True).reshape(data.shape[0]).data.numpy()\n",
    "        # print(pred == y_batch)\n",
    "        # print(output)\n",
    "        sigmoid = nn.Sigmoid()\n",
    "        # print(sigmoid(output))\n",
    "        pred = (sigmoid(output) > 0.5).type(torch.LongTensor).cuda()\n",
    "        acc = np.mean((pred == y_batch).cpu().numpy())\n",
    "        acc_log.append(acc)\n",
    "        \n",
    "        loss = criterion(output, target.float()).cuda()\n",
    "        loss.backward()\n",
    "        torch.nn.utils.clip_grad_norm_(model.parameters(), 1.)\n",
    "        optimizer.step()\n",
    "        optimizer.zero_grad()\n",
    "        loss = loss.item()\n",
    "        loss_log.append(loss)\n",
    "    return loss_log, acc_log   "
   ]
  },
  {
   "cell_type": "markdown",
   "id": "506ad0dd-2b78-40af-bc78-e358094a820c",
   "metadata": {},
   "source": [
    "#### Обучение ResNet сети"
   ]
  },
  {
   "cell_type": "code",
   "execution_count": 14,
   "id": "b9a5b151-9367-428b-9cda-a53502dce7cf",
   "metadata": {},
   "outputs": [],
   "source": [
    "import torch\n",
    "import torch.nn as nn\n",
    "import torch.optim as optim\n",
    "from torchvision import datasets\n",
    "from torch.utils.data import DataLoader\n",
    "from torchvision import transforms\n",
    "\n",
    "class ResidualBlock(nn.Module):\n",
    "    def __init__(self, in_channels, out_channels, stride=1, downsample=None):\n",
    "        super(ResidualBlock, self).__init__()\n",
    "        self.conv1 = nn.Conv2d(in_channels, out_channels, kernel_size=3, stride=stride, padding=1, bias=False)\n",
    "        self.bn1 = nn.BatchNorm2d(out_channels)\n",
    "        self.relu = nn.ReLU()\n",
    "        self.conv2 = nn.Conv2d(out_channels, out_channels, kernel_size=3, stride=1, padding=1, bias=False)\n",
    "        self.bn2 = nn.BatchNorm2d(out_channels)\n",
    "        self.downsample = downsample  # Downsample for matching dimensions when needed\n",
    "\n",
    "    def forward(self, x):\n",
    "        identity = x\n",
    "        if self.downsample:\n",
    "            identity = self.downsample(x)\n",
    "\n",
    "        out = self.conv1(x)\n",
    "        out = self.bn1(out)\n",
    "        out = self.relu(out)\n",
    "        out = self.conv2(out)\n",
    "        out = self.bn2(out)\n",
    "\n",
    "        out += identity  # Add skip connection\n",
    "        out = F.relu(out)\n",
    "        return out\n",
    "\n",
    "class ResNet18(nn.Module):\n",
    "    def __init__(self, num_classes=3):\n",
    "        super(ResNet18, self).__init__()\n",
    "        self.in_channels = 64\n",
    "\n",
    "        # Начальная часть ResNet-18\n",
    "        self.conv1 = nn.Conv2d(3, 64, kernel_size=7, stride=2, padding=3, bias=False)\n",
    "        self.bn1 = nn.BatchNorm2d(64)\n",
    "        self.relu = nn.ReLU(inplace=True)\n",
    "        self.maxpool = nn.MaxPool2d(kernel_size=3, stride=2, padding=1)\n",
    "\n",
    "        # Основные блоки ResNet-18\n",
    "        self.layer1 = self._make_layer(64, 64, 2, stride=1)\n",
    "        self.layer2 = self._make_layer(64, 128, 2, stride=2)\n",
    "        self.layer3 = self._make_layer(128, 256, 2, stride=2)\n",
    "        self.layer4 = self._make_layer(256, 512, 2, stride=2)\n",
    "\n",
    "        # Классификатор\n",
    "        self.avgpool = nn.AdaptiveAvgPool2d((1, 1))\n",
    "        self.fc = nn.Linear(512, num_classes)\n",
    "\n",
    "    def _make_layer(self, in_channels, out_channels, blocks, stride):\n",
    "        downsample = None\n",
    "        if stride != 1 or self.in_channels != out_channels:\n",
    "            downsample = nn.Sequential(\n",
    "                nn.Conv2d(self.in_channels, out_channels, kernel_size=1, stride=stride, bias=False),\n",
    "                nn.BatchNorm2d(out_channels),\n",
    "            )\n",
    "\n",
    "        layers = []\n",
    "        layers.append(ResidualBlock(self.in_channels, out_channels, stride, downsample))\n",
    "        self.in_channels = out_channels\n",
    "        for _ in range(1, blocks):\n",
    "            layers.append(ResidualBlock(out_channels, out_channels))\n",
    "\n",
    "        return nn.Sequential(*layers)\n",
    "\n",
    "    def forward(self, x):\n",
    "        x = self.conv1(x)\n",
    "        x = self.bn1(x)\n",
    "        x = self.relu(x)\n",
    "        x = self.maxpool(x)\n",
    "\n",
    "        x = self.layer1(x)\n",
    "        x = self.layer2(x)\n",
    "        x = self.layer3(x)\n",
    "        x = self.layer4(x)\n",
    "\n",
    "        x = self.avgpool(x)\n",
    "        x = torch.flatten(x, 1)\n",
    "        x = self.fc(x)\n",
    "\n",
    "        return x\n",
    "        \n",
    "# # Training\n",
    "# model = ResNet(num_classes=NUM_CLASSES).to(device)\n",
    "# criterion = nn.CrossEntropyLoss()\n",
    "# optimizer = optim.SGD(model.parameters(), lr=0.001, weight_decay=0.01)\n",
    "# train(model, optimizer, criterion, EPOCHS)"
   ]
  },
  {
   "cell_type": "code",
   "execution_count": 15,
   "id": "3e2a0a90-a0c7-4e79-af37-7156af5a9442",
   "metadata": {},
   "outputs": [],
   "source": [
    "class OneVsOneResNet18(nn.Module):\n",
    "    def __init__(self):\n",
    "        super(OneVsOneResNet18, self).__init__()\n",
    "        self.base_model = ResNet18(num_classes=1)  # Binary classifier\n",
    "\n",
    "    def forward(self, x):\n",
    "        return self.base_model(x)"
   ]
  },
  {
   "cell_type": "code",
   "execution_count": 16,
   "id": "103903f1-9520-400b-be0a-b12b4923d0e5",
   "metadata": {},
   "outputs": [],
   "source": [
    "def create_ovo_dataloader(dataframe, class_a, class_b, batch_size=32):\n",
    "    filtered_df = dataframe[(dataframe['label'] == class_a) | (dataframe['label'] == class_b)].copy()\n",
    "    filtered_df['binary_label'] = (filtered_df['label'] == class_a).astype(int)\n",
    "    dataloader = make_loader(filtered_df, batch_size=batch_size, shuffle=True)\n",
    "    return dataloader"
   ]
  },
  {
   "cell_type": "code",
   "execution_count": 17,
   "id": "c2e0fe1c-2385-4f90-a760-4dd14b832f3f",
   "metadata": {},
   "outputs": [
    {
     "data": {
      "image/png": "[encoded data removed]",
      "text/plain": [
       "<Figure size 640x480 with 1 Axes>"
      ]
     },
     "metadata": {},
     "output_type": "display_data"
    },
    {
     "data": {
      "image/png": "[encoded data removed]",
      "text/plain": [
       "<Figure size 640x480 with 1 Axes>"
      ]
     },
     "metadata": {},
     "output_type": "display_data"
    },
    {
     "ename": "NameError",
     "evalue": "name 'early_stopping_state' is not defined",
     "output_type": "error",
     "traceback": [
      "\u001b[1;31m---------------------------------------------------------------------------\u001b[0m",
      "\u001b[1;31mNameError\u001b[0m                                 Traceback (most recent call last)",
      "\u001b[1;32m~\\AppData\\Local\\Temp\\ipykernel_28376\\898032.py\u001b[0m in \u001b[0;36m<module>\u001b[1;34m\u001b[0m\n\u001b[0;32m     14\u001b[0m     \u001b[0mcriterion\u001b[0m \u001b[1;33m=\u001b[0m \u001b[0mnn\u001b[0m\u001b[1;33m.\u001b[0m\u001b[0mBCEWithLogitsLoss\u001b[0m\u001b[1;33m(\u001b[0m\u001b[1;33m)\u001b[0m\u001b[1;33m\u001b[0m\u001b[1;33m\u001b[0m\u001b[0m\n\u001b[0;32m     15\u001b[0m \u001b[1;33m\u001b[0m\u001b[0m\n\u001b[1;32m---> 16\u001b[1;33m     \u001b[0mtrain\u001b[0m\u001b[1;33m(\u001b[0m\u001b[0mmodel\u001b[0m\u001b[1;33m,\u001b[0m \u001b[0moptimizer\u001b[0m\u001b[1;33m,\u001b[0m \u001b[0mcriterion\u001b[0m\u001b[1;33m,\u001b[0m \u001b[0mEPOCHS\u001b[0m\u001b[1;33m)\u001b[0m\u001b[1;33m\u001b[0m\u001b[1;33m\u001b[0m\u001b[0m\n\u001b[0m\u001b[0;32m     17\u001b[0m \u001b[1;33m\u001b[0m\u001b[0m\n\u001b[0;32m     18\u001b[0m     \u001b[0mprint\u001b[0m\u001b[1;33m(\u001b[0m\u001b[1;34m\"Loaded the best model.\"\u001b[0m\u001b[1;33m)\u001b[0m\u001b[1;33m\u001b[0m\u001b[1;33m\u001b[0m\u001b[0m\n",
      "\u001b[1;32m~\\AppData\\Local\\Temp\\ipykernel_28376\\2384616556.py\u001b[0m in \u001b[0;36mtrain\u001b[1;34m(model, opt, criterion, n_epochs)\u001b[0m\n\u001b[0;32m     20\u001b[0m         \u001b[0mplot_history\u001b[0m\u001b[1;33m(\u001b[0m\u001b[0mtrain_acc_log\u001b[0m\u001b[1;33m,\u001b[0m \u001b[0mval_acc_log\u001b[0m\u001b[1;33m,\u001b[0m \u001b[0mtitle\u001b[0m\u001b[1;33m=\u001b[0m\u001b[1;34m'accuracy'\u001b[0m\u001b[1;33m)\u001b[0m\u001b[1;33m\u001b[0m\u001b[1;33m\u001b[0m\u001b[0m\n\u001b[0;32m     21\u001b[0m \u001b[1;33m\u001b[0m\u001b[0m\n\u001b[1;32m---> 22\u001b[1;33m         \u001b[1;32mif\u001b[0m \u001b[0mearly_stopping_state\u001b[0m\u001b[1;33m[\u001b[0m\u001b[1;34m\"early_stop\"\u001b[0m\u001b[1;33m]\u001b[0m\u001b[1;33m:\u001b[0m\u001b[1;33m\u001b[0m\u001b[1;33m\u001b[0m\u001b[0m\n\u001b[0m\u001b[0;32m     23\u001b[0m             \u001b[0mprint\u001b[0m\u001b[1;33m(\u001b[0m\u001b[1;34m\"Early stopping triggered. Stopping training.\"\u001b[0m\u001b[1;33m)\u001b[0m\u001b[1;33m\u001b[0m\u001b[1;33m\u001b[0m\u001b[0m\n\u001b[0;32m     24\u001b[0m             \u001b[1;32mbreak\u001b[0m\u001b[1;33m\u001b[0m\u001b[1;33m\u001b[0m\u001b[0m\n",
      "\u001b[1;31mNameError\u001b[0m: name 'early_stopping_state' is not defined"
     ]
    }
   ],
   "source": [
    "from itertools import combinations\n",
    "\n",
    "models = []\n",
    "class_pairs = list(combinations(range(NUM_CLASSES), 2))\n",
    "\n",
    "for class_a, class_b in class_pairs:\n",
    "    print(f\"Training model for class pair '{CLASS_NAMES[class_a]}' vs '{CLASS_NAMES[class_b]}'\")\n",
    "\n",
    "    train_loader = create_ovo_dataloader(train_data, class_a, class_b, batch_size=32)\n",
    "    test_loader = create_ovo_dataloader(test_data, class_a, class_b, batch_size=32)\n",
    "    print(len(test_loader))\n",
    "    model = OneVsOneResNet18().to(device)\n",
    "    optimizer = torch.optim.Adam(model.parameters(), lr=0.001)\n",
    "    criterion = nn.BCEWithLogitsLoss()\n",
    "\n",
    "    train(model, optimizer, criterion, EPOCHS)\n",
    "\n",
    "    print(\"Loaded the best model.\")\n",
    "    models.append((model, class_a, class_b))"
   ]
  },
  {
   "cell_type": "code",
   "execution_count": null,
   "id": "2c671542-9827-4c9c-a637-292bc078c911",
   "metadata": {},
   "outputs": [],
   "source": []
  }
 ],
 "metadata": {
  "kernelspec": {
   "display_name": "Python 3 (ipykernel)",
   "language": "python",
   "name": "python3"
  },
  "language_info": {
   "codemirror_mode": {
    "name": "ipython",
    "version": 3
   },
   "file_extension": ".py",
   "mimetype": "text/x-python",
   "name": "python",
   "nbconvert_exporter": "python",
   "pygments_lexer": "ipython3",
   "version": "3.9.21"
  }
 },
 "nbformat": 4,
 "nbformat_minor": 5
}
