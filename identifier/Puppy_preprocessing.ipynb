{
 "cells": [
  {
   "cell_type": "code",
   "execution_count": 4,
   "id": "0063fb61-6537-4598-be20-511886d97ee2",
   "metadata": {},
   "outputs": [
    {
     "name": "stdout",
     "output_type": "stream",
     "text": [
      "Loaded\n"
     ]
    }
   ],
   "source": [
    "from selenium import webdriver\n",
    "from selenium.webdriver.common.by import By\n",
    "import os\n",
    "import time\n",
    "import requests\n",
    "from tqdm import tqdm\n",
    "\n",
    "# Function to download images\n",
    "def download_image(image_url, folder_path, filename):\n",
    "    response = requests.get(image_url, stream=True)\n",
    "    if response.status_code == 200:\n",
    "        with open(os.path.join(folder_path, filename), 'wb') as file:\n",
    "            for chunk in response.iter_content(1024):\n",
    "                file.write(chunk)\n",
    "\n",
    "cService = webdriver.ChromeService(executable_path=r\"C:\\Users\\user\\Documents\\chromedriver-win64\\chromedriver.exe\")\n",
    "driver = webdriver.Chrome(service=cService)\n",
    "\n",
    "\n",
    "driver.get(\"https://www.pupvote.com/us/leaderboard\")\n",
    "print(\"Loaded\")\n",
    "# Wait for JavaScript content to load\n",
    "time.sleep(3)"
   ]
  },
  {
   "cell_type": "code",
   "execution_count": 6,
   "id": "dc433db3-5775-406f-b886-bb9556f99cf5",
   "metadata": {},
   "outputs": [
    {
     "name": "stdout",
     "output_type": "stream",
     "text": [
      "110\n"
     ]
    }
   ],
   "source": [
    "from IPython.display import clear_output\n",
    "\n",
    "puppies = driver.find_elements(By.CLASS_NAME, \"Leaderboard_leaderboardItem__VQz_J\")  # Adjust class name\n",
    "\n",
    "while len(puppies) < 2500:\n",
    "    try:\n",
    "        show_more = driver.find_element(By.CLASS_NAME, \"Leaderboard_leaderboardShowmore__369gF\").find_element(By.TAG_NAME, \"button\")\n",
    "    except:\n",
    "        break\n",
    "    show_more.click()\n",
    "    puppies = driver.find_elements(By.CLASS_NAME, \"Leaderboard_leaderboardItem__VQz_J\")\n",
    "    clear_output()\n",
    "    print(len(puppies))\n",
    "    time.sleep(2.5)\n",
    "clear_output()\n",
    "print(len(puppies))\n",
    "\n",
    "puppy_urls = []\n",
    "for idx, puppy in enumerate(puppies):\n",
    "    puppy_urls.append((puppy.get_attribute(\"href\"), idx))\n",
    "\n",
    "# Close the browser\n",
    "driver.quit()"
   ]
  },
  {
   "cell_type": "code",
   "execution_count": null,
   "id": "6eaf2b52-1507-4bf2-9c33-cdb0d17a9ed4",
   "metadata": {},
   "outputs": [],
   "source": [
    "from concurrent.futures import ThreadPoolExecutor\n",
    "\n",
    "def process_puppy(puppy_data):\n",
    "    cService = webdriver.ChromeService(executable_path=r\"C:\\Users\\user\\Documents\\chromedriver-win64\\chromedriver.exe\")\n",
    "    driver = webdriver.Chrome(service=cService)\n",
    "    puppy_url = puppy_data[0]\n",
    "    puppy_idx = puppy_data[1]\n",
    "    driver.get(puppy_url)\n",
    "    time.sleep(5)\n",
    "\n",
    "    try:\n",
    "        # Step 1: Extract puppy name\n",
    "        puppy_name = str(puppy_idx+1) + driver.find_element(By.CLASS_NAME, \"pet-top\").find_element(By.TAG_NAME, \"h1\").text.strip() \n",
    "        print(f\"Processing {puppy_name}...\")\n",
    "        \n",
    "        # Step 2: Find all image URLs\n",
    "        while True:\n",
    "            try:\n",
    "                driver.find_element(By.CLASS_NAME, \"Photos_moreImages__10L1r\").click()\n",
    "                time.sleep(1)\n",
    "            except:\n",
    "                break\n",
    "                \n",
    "        if len(driver.find_elements(By.CLASS_NAME, \"Photos_image__2se20\")) < 1:\n",
    "            raise Exception(\"There are less than 10 pictures\")\n",
    "        \n",
    "        image_urls = [\n",
    "            driver.find_element(By.CLASS_NAME, \"pet-image\").find_element(By.TAG_NAME, \"img\").get_attribute('src')\n",
    "            ]\n",
    "        mini_images = driver.find_elements(By.CLASS_NAME, \"Photos_image__2se20\")\n",
    "        \n",
    "        for mini_img in mini_images:\n",
    "            mini_img.click()\n",
    "            time.sleep(1)\n",
    "            block = driver.find_element(By.CLASS_NAME, \"PhotoPreview_image__1face\")\n",
    "            image = block.find_element(By.TAG_NAME, \"img\")\n",
    "            image_urls.append(image.get_attribute(\"src\"))\n",
    "            \n",
    "            btn = driver.find_element(By.CLASS_NAME, \"PhotoPreview_closeButton__29-CE\")\n",
    "            btn.click()\n",
    "            time.sleep(1.5)\n",
    "        \n",
    "        \n",
    "        # Step 3: Create a folder for the puppy's images\n",
    "        folder_path = os.path.join(\"puppies\", puppy_name)\n",
    "        os.makedirs(folder_path, exist_ok=True)\n",
    "        \n",
    "        # Step 4: Download each image\n",
    "        print(f\"Downloading images for {puppy_name}...\")\n",
    "        for idx, image_url in enumerate(tqdm(image_urls)):\n",
    "            filename = f\"{puppy_name}_{idx + 1}.jpg\"\n",
    "            download_image(image_url, folder_path, filename)\n",
    "        \n",
    "        print(f\"All images for {puppy_name} have been downloaded to {folder_path}.\")\n",
    "        \n",
    "    finally:\n",
    "        # Close the browser for this thread\n",
    "        clear_output()\n",
    "        driver.quit()\n",
    "\n",
    "# Main function for parallel processing\n",
    "def main(puppie_urls):\n",
    "    with ThreadPoolExecutor(max_workers=6) as executor:  # Adjust the number of workers as needed\n",
    "        executor.map(process_puppy, puppy_urls)\n",
    "\n",
    "main(puppy_urls)\n"
   ]
  },
  {
   "cell_type": "code",
   "execution_count": null,
   "id": "050580d3-67b6-402c-93df-d46fdf95a9f6",
   "metadata": {},
   "outputs": [],
   "source": []
  }
 ],
 "metadata": {
  "kernelspec": {
   "display_name": "Python 3 (ipykernel)",
   "language": "python",
   "name": "python3"
  },
  "language_info": {
   "codemirror_mode": {
    "name": "ipython",
    "version": 3
   },
   "file_extension": ".py",
   "mimetype": "text/x-python",
   "name": "python",
   "nbconvert_exporter": "python",
   "pygments_lexer": "ipython3",
   "version": "3.10.16"
  }
 },
 "nbformat": 4,
 "nbformat_minor": 5
}
