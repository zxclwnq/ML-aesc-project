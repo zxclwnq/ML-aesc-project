{
 "cells": [
  {
   "cell_type": "markdown",
   "id": "e5ac67c1-bb0d-49bb-a40a-d1f0b2b287fb",
   "metadata": {},
   "source": [
    "# Обработка входных данных"
   ]
  },
  {
   "cell_type": "code",
   "execution_count": 1,
   "id": "3ecb1d4e-1ac5-4649-8228-88fcfdf559dc",
   "metadata": {},
   "outputs": [
    {
     "name": "stdout",
     "output_type": "stream",
     "text": [
      "cuda\n"
     ]
    }
   ],
   "source": [
    "import os\n",
    "import zipfile\n",
    "from pathlib import Path\n",
    "from random import shuffle\n",
    "from PIL import Image\n",
    "import shutil\n",
    "import torch\n",
    "\n",
    "# Configurations\n",
    "IMAGENET_ARCHIVE = \"archive.zip\"  # Name of Tiny ImageNet ZIP file\n",
    "DOGS_VS_CATS_ARCHIVE = \"dogs-vs-cats.zip\"  # Name of Dogs-vs-Cats ZIP file\n",
    "EXTRACT_DIR = \"extracted_data\"  # Directory for extracted datasets\n",
    "OUTPUT_DIR = \"processed_data\"  # Directory for the prepared dataset\n",
    "CLASS_NAMES = [\"cats\", \"dogs\", \"other\"]  # Target classes\n",
    "BALANCED_SIZE = 12500  # Number of images per class\n",
    "IMG_HEIGHT = 64\n",
    "IMG_WIDTH = 64\n",
    "device = torch.device(\"cuda\" if torch.cuda.is_available() else \"cpu\")\n",
    "print(device)"
   ]
  },
  {
   "cell_type": "code",
   "execution_count": 2,
   "id": "05481304-a66f-4511-9570-a2816a19f05a",
   "metadata": {},
   "outputs": [
    {
     "name": "stdout",
     "output_type": "stream",
     "text": [
      "Datasets already extracted.\n"
     ]
    }
   ],
   "source": [
    "def extract_zip(zip_path, extract_to):\n",
    "    with zipfile.ZipFile(zip_path, 'r') as zf:\n",
    "        zf.extractall(extract_to)\n",
    "    print(f\"Extracted {zip_path} to {extract_to}\")\n",
    "\n",
    "# Resize and save image\n",
    "import torchvision.transforms as transforms\n",
    "import random\n",
    "\n",
    "def resize_transform_save(image_path, output_path, size=(64, 64)):\n",
    "    # Define the augmentation transformations\n",
    "    augmentation_transform = transforms.Compose([\n",
    "        transforms.RandomHorizontalFlip(p=0.5),\n",
    "        transforms.RandomRotation(15),\n",
    "        transforms.ColorJitter(brightness=0.2, contrast=0.2, saturation=0.2, hue=0.1),\n",
    "        transforms.RandomResizedCrop(size=size, scale=(0.8, 1.0)),\n",
    "        transforms.ToTensor()\n",
    "    ])\n",
    "    \n",
    "    try:\n",
    "        with Image.open(image_path) as img:\n",
    "            img = img.convert(\"RGB\")  # Ensure 3 channels\n",
    "            # Apply the augmentations and resize\n",
    "            img = augmentation_transform(img)\n",
    "            # Convert the tensor back to a PIL image if needed to save it\n",
    "            img = transforms.ToPILImage()(img)\n",
    "            img.save(output_path)\n",
    "    except Exception as e:\n",
    "        print(f\"Error processing {image_path}: {e}\")\n",
    "\n",
    "def resize_and_save(image_path, output_path, size=(64, 64)):\n",
    "    try:\n",
    "        with Image.open(image_path) as img:\n",
    "            img = img.convert(\"RGB\")  # Ensure 3 channels\n",
    "            img = img.resize(size, Image.Resampling.LANCZOS)  # Updated from ANTIALIAS\n",
    "            img.save(output_path)\n",
    "    except Exception as e:\n",
    "        print(f\"Error processing {image_path}: {e}\")\n",
    "\n",
    "def prepare_class(source_paths, output_class_dir, limit, label_filter=None, exclude_labels=None):\n",
    "    \"\"\"\n",
    "    Prepares data for a specific class by resizing and saving images.\n",
    "    \"\"\"\n",
    "    all_images = []\n",
    "\n",
    "    for path in source_paths:\n",
    "        if \"dogs-vs-cats\" in path:  # Handle Dogs-vs-Cats dataset\n",
    "            for file in Path(path).rglob(\"*.jpg\"):\n",
    "                if label_filter:\n",
    "                    # Include only files with the specified label in the name\n",
    "                    if file.name.startswith(label_filter):\n",
    "                        all_images.append(file)\n",
    "                else:\n",
    "                    all_images.append(file)\n",
    "\n",
    "        elif \"tiny-imagenet-200\" in path:  # Handle Tiny ImageNet dataset\n",
    "            if \"train\" in path:\n",
    "                for subfolder in Path(path).iterdir():\n",
    "                    if exclude_labels and subfolder.name in exclude_labels:\n",
    "                        continue  # Skip subfolders corresponding to excluded labels\n",
    "                    images_folder = subfolder / \"images\"\n",
    "                    if images_folder.exists():\n",
    "                        all_images.extend(images_folder.rglob(\"*.jpeg\"))\n",
    "            elif \"test\" in path:\n",
    "                all_images.extend(Path(path).rglob(\"*.jpeg\"))\n",
    "\n",
    "    # Shuffle and limit the dataset size\n",
    "    shuffle(all_images)\n",
    "    all_images = all_images[:limit]\n",
    "\n",
    "    # Ensure output directory exists\n",
    "    os.makedirs(output_class_dir, exist_ok=True)\n",
    "\n",
    "    # Resize and save images\n",
    "    for idx, img_path in enumerate(all_images):\n",
    "        output_path1 = os.path.join(output_class_dir, f\"{2*idx}.jpg\")\n",
    "        output_path2 = os.path.join(output_class_dir, f\"{2*idx+1}.jpg\")\n",
    "        resize_and_save(img_path, output_path1, size=(IMG_WIDTH, IMG_HEIGHT))\n",
    "        resize_transform_save(img_path, output_path2, size=(IMG_WIDTH, IMG_HEIGHT))\n",
    "\n",
    "\n",
    "if not os.path.exists(EXTRACT_DIR):\n",
    "    os.makedirs(EXTRACT_DIR, exist_ok=True)\n",
    "    print(\"Extracting datasets...\")\n",
    "    extract_zip(IMAGENET_ARCHIVE, EXTRACT_DIR)\n",
    "    extract_zip(DOGS_VS_CATS_ARCHIVE, EXTRACT_DIR)\n",
    "else:\n",
    "    print(\"Datasets already extracted.\")"
   ]
  },
  {
   "cell_type": "code",
   "execution_count": 3,
   "id": "aa0ad77b-f654-45d3-a484-a595b6d80e5d",
   "metadata": {},
   "outputs": [],
   "source": [
    "cat_dog_class_ids = {\n",
    "    \"n02085620\",\n",
    "    \"n02094433\",\n",
    "    \"n02099601\",\n",
    "    \"n02099712\", \n",
    "    \"n02106662\",\n",
    "    \"n02113799\",\n",
    "    \"n02123045\", \n",
    "    \"n02123394\",\n",
    "    \"n02124075\",\n",
    "}"
   ]
  },
  {
   "cell_type": "markdown",
   "id": "28a0f079-b983-40a2-b265-74f434fdddc9",
   "metadata": {},
   "source": [
    "#### Соберём сам датасет в df и рассплитим его на тренировочный и тестовый"
   ]
  },
  {
   "cell_type": "code",
   "execution_count": 4,
   "id": "032b0c59-b62f-4a10-8dcf-52701631a198",
   "metadata": {},
   "outputs": [],
   "source": [
    "dogs_vs_cats_train = os.path.join(EXTRACT_DIR, \"dogs-vs-cats\", \"train\")\n",
    "tiny_imagenet_train = os.path.join(EXTRACT_DIR, \"tiny-imagenet-200\", \"train\")\n",
    "\n",
    "# Prepare \"cats\" class\n",
    "if not os.path.exists(os.path.join(OUTPUT_DIR, \"cats\")):\n",
    "    prepare_class(\n",
    "        source_paths=[dogs_vs_cats_train],\n",
    "        output_class_dir=os.path.join(OUTPUT_DIR, \"cats\"),\n",
    "        limit=BALANCED_SIZE,\n",
    "        label_filter=\"cat\"\n",
    "    )\n",
    "\n",
    "# Prepare \"dogs\" class\n",
    "if not os.path.exists(os.path.join(OUTPUT_DIR, \"dogs\")):\n",
    "    prepare_class(\n",
    "        source_paths=[dogs_vs_cats_train],\n",
    "        output_class_dir=os.path.join(OUTPUT_DIR, \"dogs\"),\n",
    "        limit=BALANCED_SIZE,\n",
    "        label_filter=\"dog\"\n",
    "    )\n",
    "\n",
    "# Prepare \"other\" class\n",
    "if not os.path.exists(os.path.join(OUTPUT_DIR, \"other\")):\n",
    "    prepare_class(\n",
    "        source_paths=[tiny_imagenet_train],\n",
    "        output_class_dir=os.path.join(OUTPUT_DIR, \"other\"),\n",
    "        limit=2*BALANCED_SIZE,\n",
    "        exclude_labels=cat_dog_class_ids\n",
    "    )"
   ]
  },
  {
   "cell_type": "markdown",
   "id": "a17445df-edff-4361-8e2e-87ec52fc0c70",
   "metadata": {},
   "source": [
    "# Обучаем сетки"
   ]
  },
  {
   "cell_type": "code",
   "execution_count": 5,
   "id": "adb13afd-8044-4055-8c7f-463594f7c82a",
   "metadata": {},
   "outputs": [],
   "source": [
    "import pandas as pd\n",
    "from sklearn.model_selection import train_test_split\n",
    "import numpy as np\n",
    "import torch\n",
    "import torch.nn as nn\n",
    "import torch.nn.functional as F\n",
    "from torch.autograd import Variable\n",
    "import torchvision.datasets as dsets\n",
    "import torchvision.transforms as transforms\n",
    "import torch.optim as optim\n",
    "from torch.utils.data.sampler import SubsetRandomSampler\n",
    "from IPython.display import clear_output\n",
    "from torch.utils.data import DataLoader, Dataset"
   ]
  },
  {
   "cell_type": "markdown",
   "id": "391c7e01-a9a5-431e-9dcd-8ef8d3d923a6",
   "metadata": {},
   "source": [
    "#### Самописный датасет для DataLoader"
   ]
  },
  {
   "cell_type": "code",
   "execution_count": 6,
   "id": "534a61ae-1c92-4719-8832-82827badccf6",
   "metadata": {},
   "outputs": [],
   "source": [
    "def make_loader(df, batch_size=32, shuffle=True):\n",
    "    transform = transforms.Compose([\n",
    "        transforms.ToTensor(),\n",
    "        transforms.Normalize(mean=[0.485, 0.456, 0.406], std=[0.229, 0.224, 0.225]),\n",
    "    ])\n",
    "\n",
    "    class InlineDataset(Dataset):\n",
    "        def __init__(self, dataframe):\n",
    "            self.dataframe = dataframe\n",
    "\n",
    "        def __len__(self):\n",
    "            return len(self.dataframe)\n",
    "\n",
    "        def __getitem__(self, idx):\n",
    "            # Get the row from the DataFrame\n",
    "            row = self.dataframe.iloc[idx]\n",
    "            img_path = row[\"file_path\"]\n",
    "            label = row[\"binary_label\"]\n",
    "\n",
    "            # Load and transform the image\n",
    "            image = Image.open(img_path)\n",
    "            image = transform(image)\n",
    "\n",
    "            return image.to(device), torch.tensor(label).to(device)\n",
    "\n",
    "    dataset = InlineDataset(df)\n",
    "    dataloader = DataLoader(dataset, batch_size=batch_size, shuffle=shuffle)\n",
    "\n",
    "    return dataloader"
   ]
  },
  {
   "cell_type": "code",
   "execution_count": 7,
   "id": "719f2e87-09d8-4d86-a054-8f21a0775b66",
   "metadata": {},
   "outputs": [],
   "source": [
    "def make_loader(df, batch_size=32, shuffle=True):\n",
    "    transform = transforms.Compose([\n",
    "        transforms.ToTensor(),\n",
    "        transforms.Normalize(mean=[0.485, 0.456, 0.406], std=[0.229, 0.224, 0.225]),\n",
    "    ])\n",
    "\n",
    "    class InlineDataset(Dataset):\n",
    "        def __init__(self, dataframe):\n",
    "            self.dataframe = dataframe\n",
    "\n",
    "        def __len__(self):\n",
    "            return len(self.dataframe)\n",
    "\n",
    "        def __getitem__(self, idx):\n",
    "            # Get the row from the DataFrame\n",
    "            row = self.dataframe.iloc[idx]\n",
    "            img_path = row[\"file_path\"]\n",
    "            label = row[\"label\"]\n",
    "\n",
    "            # Load and transform the image\n",
    "            image = Image.open(img_path)\n",
    "            image = transform(image)\n",
    "\n",
    "            return image.to(device), torch.tensor(label).to(device)\n",
    "\n",
    "    dataset = InlineDataset(df)\n",
    "    dataloader = DataLoader(dataset, batch_size=batch_size, shuffle=shuffle)\n",
    "\n",
    "    return dataloader"
   ]
  },
  {
   "cell_type": "code",
   "execution_count": 8,
   "id": "c2cbf10c-3843-434a-bb8b-6e5687ffbee4",
   "metadata": {},
   "outputs": [],
   "source": [
    "BATCH_SIZE = 64\n",
    "NUM_CLASSES = 3\n",
    "EPOCHS = 30"
   ]
  },
  {
   "cell_type": "markdown",
   "id": "20052604-32b3-461c-b5e6-135b1ac4776a",
   "metadata": {},
   "source": [
    "#### Поделим данные и переведём в тензоры"
   ]
  },
  {
   "cell_type": "code",
   "execution_count": 9,
   "id": "47e5afff-e8c0-4cb4-8bbc-3f6f0519c928",
   "metadata": {},
   "outputs": [
    {
     "name": "stdout",
     "output_type": "stream",
     "text": [
      "80000\n",
      "20000\n"
     ]
    }
   ],
   "source": [
    "data = []\n",
    "for label, class_name in enumerate(CLASS_NAMES):\n",
    "    class_path = os.path.join(OUTPUT_DIR, class_name)\n",
    "    for file_name in os.listdir(class_path):\n",
    "        if file_name.endswith(('jpg', 'jpeg', 'png')):  # Adjust extensions as needed\n",
    "            file_path = os.path.join(class_path, file_name)\n",
    "            data.append((file_path, label))  # (file path, label)\n",
    "\n",
    "# Convert to DataFrame\n",
    "df = pd.DataFrame(data, columns=[\"file_path\", \"label\"])\n",
    "\n",
    "# Split data into train and test sets\n",
    "train_data, test_data = train_test_split(df, test_size=0.2, random_state=42)\n",
    "print(len(train_data))\n",
    "print(len(test_data))"
   ]
  },
  {
   "cell_type": "markdown",
   "id": "36889367-42d1-4b79-b6f1-59c8c12869d8",
   "metadata": {},
   "source": [
    "#### Функции для обучения"
   ]
  },
  {
   "cell_type": "code",
   "execution_count": 10,
   "id": "ed02703e-1e1c-4808-80ec-bb82fb61c26b",
   "metadata": {},
   "outputs": [],
   "source": [
    "import matplotlib.pyplot as plt\n",
    "def plot_history(train_history, val_history, title='loss'):\n",
    "    plt.figure()\n",
    "    plt.title('{}'.format(title))\n",
    "    plt.plot(train_history, label='train', zorder=1)\n",
    "    \n",
    "    points = np.array(val_history)\n",
    "    \n",
    "    plt.scatter(points[:, 0], points[:, 1], marker='+', s=180, c='orange', label='val', zorder=2)\n",
    "    plt.xlabel('train steps')\n",
    "    \n",
    "    plt.legend(loc='best')\n",
    "    plt.grid()\n",
    "\n",
    "    plt.show()"
   ]
  },
  {
   "cell_type": "code",
   "execution_count": 11,
   "id": "3c35998c-f7c4-41bf-9402-4cab7f6b39c9",
   "metadata": {},
   "outputs": [],
   "source": [
    "def train(model, opt, criterion, n_epochs, save_path, all_classes=True):\n",
    "    train_log, train_acc_log = [], []\n",
    "    val_log, val_acc_log = [], []\n",
    "    best_val_loss = float('inf')\n",
    "    for epoch in range(n_epochs):\n",
    "        print(f\"Epoch {epoch+1}/{n_epochs}\")\n",
    "        print(\"Training...\")\n",
    "        train_loss, train_acc = train_epoch(model, opt, criterion, batchsize=BATCH_SIZE)\n",
    "        print(\"Done\\nValidating...\")\n",
    "        val_loss, val_acc = test(model, criterion)\n",
    "        print(\"Done\")\n",
    "        train_log.extend(train_loss)\n",
    "        train_acc_log.extend(train_acc)\n",
    "        x = 8 if all_classes else 4\n",
    "        steps = (BALANCED_SIZE * x * 0.8) / BATCH_SIZE\n",
    "        val_log.append((steps * (epoch + 1), np.mean(val_loss)))\n",
    "        val_acc_log.append((steps * (epoch + 1), np.mean(val_acc)))\n",
    "\n",
    "        clear_output()\n",
    "        plot_history(train_log, val_log)    \n",
    "        plot_history(train_acc_log, val_acc_log, title='accuracy')  \n",
    "        print(f\"Loss: {np.mean(val_loss)}\")\n",
    "        print(f\"Acc: {np.mean(val_acc)}\")\n",
    "        if np.mean(val_loss) < best_val_loss:\n",
    "            best_val_loss = np.mean(val_loss)\n",
    "            torch.save(model.state_dict(), save_path)\n",
    "            print(f\"Best model saved\")"
   ]
  },
  {
   "cell_type": "code",
   "execution_count": 12,
   "id": "1cc3a6f1-efd1-4a1a-b30a-4be81c0874a9",
   "metadata": {},
   "outputs": [],
   "source": [
    "def test(model, criterion):\n",
    "    loss_log, acc_log = [], []\n",
    "    model.eval()\n",
    "    for batch_num, (x_batch, y_batch) in enumerate(test_loader):   \n",
    "        # print(f\"Batch {batch_num}/{len(test_loader)}\")\n",
    "        x_batch = x_batch.to(device)\n",
    "        y_batch = y_batch.to(device)\n",
    "        data = Variable(x_batch).to(device)\n",
    "        target = Variable(y_batch)\n",
    "        target = target.type(torch.LongTensor) \n",
    "        target = target.to(device)\n",
    "\n",
    "        output = model(data).squeeze(1)\n",
    "        loss = criterion(output, target.float()).cuda()\n",
    "\n",
    "        sigmoid = nn.Sigmoid()\n",
    "        pred = (sigmoid(output) > 0.5).type(torch.LongTensor).cuda()\n",
    "        acc = np.mean((pred == y_batch).cpu().numpy())\n",
    "        \n",
    "        acc_log.append(acc)\n",
    "        \n",
    "        loss = loss.item()\n",
    "        loss_log.append(loss)\n",
    "    print(loss_log)\n",
    "    return loss_log, acc_log"
   ]
  },
  {
   "cell_type": "code",
   "execution_count": 13,
   "id": "4adaf0a3-e750-4f8f-a3cb-525a14fe2b1e",
   "metadata": {},
   "outputs": [],
   "source": [
    "def train_epoch(model, optimizer, criterion, batchsize=32): \n",
    "    loss_log, acc_log = [], []\n",
    "    model.train()\n",
    "    for batch_num, (x_batch, y_batch) in enumerate(train_loader):\n",
    "        print(f\"Batch {batch_num+1}/{len(train_loader)}\")\n",
    "        x_batch = x_batch.to(device)\n",
    "        # y_batch = torch.unsqueeze(y_batch, 1)\n",
    "        y_batch = y_batch.to(device)\n",
    "        # print(y_batch.shape)\n",
    "        data = Variable(x_batch).to(device)\n",
    "        target = Variable(y_batch)\n",
    "        target = target.type(torch.LongTensor) \n",
    "        target = target.to(device)\n",
    "        # print(y_batch.shape)\n",
    "        # print(target.shape)\n",
    "\n",
    "        output = model(data).squeeze(1)\n",
    "        # print(output.shape)\n",
    "        # pred = torch.argmax(output, dim=1, keepdim = True).reshape(data.shape[0]).data.numpy()\n",
    "        # print(pred == y_batch)\n",
    "        # print(output)\n",
    "        sigmoid = nn.Sigmoid()\n",
    "        # print(sigmoid(output))\n",
    "        pred = (sigmoid(output) > 0.5).type(torch.LongTensor).cuda()\n",
    "        acc = np.mean((pred == y_batch).cpu().numpy())\n",
    "        acc_log.append(acc)\n",
    "        \n",
    "        loss = criterion(output, target.float()).cuda()\n",
    "        loss.backward()\n",
    "        torch.nn.utils.clip_grad_norm_(model.parameters(), 1.)\n",
    "        optimizer.step()\n",
    "        optimizer.zero_grad()\n",
    "        loss = loss.item()\n",
    "        loss_log.append(loss)\n",
    "    return loss_log, acc_log   "
   ]
  },
  {
   "cell_type": "markdown",
   "id": "506ad0dd-2b78-40af-bc78-e358094a820c",
   "metadata": {},
   "source": [
    "#### Обучение ResNet сети"
   ]
  },
  {
   "cell_type": "code",
   "execution_count": 14,
   "id": "b9a5b151-9367-428b-9cda-a53502dce7cf",
   "metadata": {},
   "outputs": [],
   "source": [
    "import torch\n",
    "import torch.nn as nn\n",
    "import torch.optim as optim\n",
    "from torchvision import datasets\n",
    "from torch.utils.data import DataLoader\n",
    "from torchvision import transforms\n",
    "\n",
    "class ResidualBlock(nn.Module):\n",
    "    def __init__(self, in_channels, out_channels, stride=1, downsample=None):\n",
    "        super(ResidualBlock, self).__init__()\n",
    "        self.conv1 = nn.Conv2d(in_channels, out_channels, kernel_size=3, stride=stride, padding=1, bias=False)\n",
    "        self.bn1 = nn.BatchNorm2d(out_channels)\n",
    "        self.relu = nn.ReLU()\n",
    "        self.conv2 = nn.Conv2d(out_channels, out_channels, kernel_size=3, stride=1, padding=1, bias=False)\n",
    "        self.bn2 = nn.BatchNorm2d(out_channels)\n",
    "        self.downsample = downsample  # Downsample for matching dimensions when needed\n",
    "\n",
    "    def forward(self, x):\n",
    "        identity = x\n",
    "        if self.downsample:\n",
    "            identity = self.downsample(x)\n",
    "\n",
    "        out = self.conv1(x)\n",
    "        out = self.bn1(out)\n",
    "        out = self.relu(out)\n",
    "        out = self.conv2(out)\n",
    "        out = self.bn2(out)\n",
    "\n",
    "        out += identity  # Add skip connection\n",
    "        out = F.relu(out)\n",
    "        return out\n",
    "\n",
    "class ResNet(nn.Module):\n",
    "    def __init__(self, num_classes=3):\n",
    "        super(ResNet, self).__init__()\n",
    "        self.in_channels = 64\n",
    "\n",
    "        # Начальная часть ResNet-18\n",
    "        self.conv1 = nn.Conv2d(3, 64, kernel_size=7, stride=2, padding=3, bias=False)\n",
    "        self.bn1 = nn.BatchNorm2d(64)\n",
    "        self.relu = nn.ReLU(inplace=True)\n",
    "        self.maxpool = nn.MaxPool2d(kernel_size=3, stride=2, padding=1)\n",
    "\n",
    "        # Основные блоки ResNet-18\n",
    "        self.layer1 = self._make_layer(64, 64, 3, stride=1)\n",
    "        self.layer2 = self._make_layer(64, 128, 4, stride=2)\n",
    "        self.layer3 = self._make_layer(128, 256, 6, stride=2)\n",
    "        self.layer4 = self._make_layer(256, 512, 3, stride=2)\n",
    "\n",
    "        # Классификатор\n",
    "        self.avgpool = nn.AdaptiveAvgPool2d((1, 1))\n",
    "        self.fc = nn.Linear(512, num_classes)\n",
    "\n",
    "    def _make_layer(self, in_channels, out_channels, blocks, stride):\n",
    "        downsample = None\n",
    "        if stride != 1 or self.in_channels != out_channels:\n",
    "            downsample = nn.Sequential(\n",
    "                nn.Conv2d(self.in_channels, out_channels, kernel_size=1, stride=stride, bias=False),\n",
    "                nn.BatchNorm2d(out_channels),\n",
    "            )\n",
    "\n",
    "        layers = []\n",
    "        layers.append(ResidualBlock(self.in_channels, out_channels, stride, downsample))\n",
    "        self.in_channels = out_channels\n",
    "        for _ in range(1, blocks):\n",
    "            layers.append(ResidualBlock(out_channels, out_channels))\n",
    "\n",
    "        return nn.Sequential(*layers)\n",
    "\n",
    "    def forward(self, x):\n",
    "        x = self.conv1(x)\n",
    "        x = self.bn1(x)\n",
    "        x = self.relu(x)\n",
    "        x = self.maxpool(x)\n",
    "\n",
    "        x = self.layer1(x)\n",
    "        x = self.layer2(x)\n",
    "        x = self.layer3(x)\n",
    "        x = self.layer4(x)\n",
    "\n",
    "        x = self.avgpool(x)\n",
    "        x = torch.flatten(x, 1)\n",
    "        x = self.fc(x)\n",
    "\n",
    "        return x\n",
    "        "
   ]
  },
  {
   "cell_type": "code",
   "execution_count": 47,
   "id": "95d5ddfe-ce3a-4d22-82f9-d8441537198a",
   "metadata": {},
   "outputs": [],
   "source": [
    "import torchvision.models as models\n",
    "class VGG19Binary(nn.Module):\n",
    "    def __init__(self):\n",
    "        super(VGG19Binary, self).__init__()\n",
    "        \n",
    "        # Load the pre-trained VGG19 model\n",
    "        self.vgg19 = models.vgg19(pretrained=True)\n",
    "        for param in self.vgg19.features.parameters():\n",
    "            param.requires_grad = False\n",
    "        # Output 1 logit for BCEWithLogitsLoss\n",
    "        self.vgg19.classifier = nn.Sequential(\n",
    "            nn.Linear(512 * 7 * 7, 4096),\n",
    "            nn.ReLU(inplace=True),\n",
    "            nn.Dropout(),\n",
    "            nn.Linear(4096, 4096),\n",
    "            nn.ReLU(inplace=True),\n",
    "            nn.Dropout(),\n",
    "            nn.Linear(4096, 1),  # Output size is 1 for binary classification\n",
    "        )\n",
    "    \n",
    "    def forward(self, x):\n",
    "        return self.vgg19(x)\n"
   ]
  },
  {
   "cell_type": "code",
   "execution_count": 48,
   "id": "103903f1-9520-400b-be0a-b12b4923d0e5",
   "metadata": {},
   "outputs": [],
   "source": [
    "def prepare_datasets_for_tasks(train_df, test_df):\n",
    "    # \"Cats & Dogs vs Others\"\n",
    "    train_catdog_others = train_df.copy()\n",
    "    train_catdog_others[\"label\"] = train_catdog_others[\"label\"].apply(lambda x: 0 if x in [0, 1] else 1)\n",
    "\n",
    "    test_catdog_others = test_df.copy()\n",
    "    test_catdog_others[\"label\"] = test_catdog_others[\"label\"].apply(lambda x: 0 if x in [0, 1] else 1)\n",
    "\n",
    "    # \"Cats vs Dogs\"\n",
    "    train_cats_dogs = train_df[train_df[\"label\"].isin([0, 1])].copy()\n",
    "    train_cats_dogs[\"label\"] = train_cats_dogs[\"label\"].apply(lambda x: 0 if x == 0 else 1)\n",
    "\n",
    "    test_cats_dogs = test_df[test_df[\"label\"].isin([0, 1])].copy()\n",
    "    test_cats_dogs[\"label\"] = test_cats_dogs[\"label\"].apply(lambda x: 0 if x == 0 else 1)\n",
    "\n",
    "    return (train_catdog_others, test_catdog_others), (train_cats_dogs, test_cats_dogs)"
   ]
  },
  {
   "cell_type": "code",
   "execution_count": 17,
   "id": "23c06c3c-a15a-42e6-b2f9-21bd37ebad01",
   "metadata": {},
   "outputs": [],
   "source": [
    "(train_catdog_others, test_catdog_others), (train_cats_dogs, test_cats_dogs) = prepare_datasets_for_tasks(train_data, test_data)\n",
    "\n",
    "criterion = nn.BCEWithLogitsLoss()"
   ]
  },
  {
   "cell_type": "code",
   "execution_count": 18,
   "id": "c2e0fe1c-2385-4f90-a760-4dd14b832f3f",
   "metadata": {},
   "outputs": [
    {
     "data": {
      "image/png": "[encoded data removed]",
      "text/plain": [
       "<Figure size 640x480 with 1 Axes>"
      ]
     },
     "metadata": {},
     "output_type": "display_data"
    },
    {
     "data": {
      "image/png": "[encoded data removed]",
      "text/plain": [
       "<Figure size 640x480 with 1 Axes>"
      ]
     },
     "metadata": {},
     "output_type": "display_data"
    },
    {
     "name": "stdout",
     "output_type": "stream",
     "text": [
      "Loss: 0.0652081935224644\n",
      "Acc: 0.9799820287539937\n"
     ]
    },
    {
     "data": {
      "text/plain": [
       "<All keys matched successfully>"
      ]
     },
     "execution_count": 18,
     "metadata": {},
     "output_type": "execute_result"
    }
   ],
   "source": [
    "print(\"Training Model 1: Cats & Dogs vs Others\")\n",
    "train_loader = make_loader(train_catdog_others, batch_size=BATCH_SIZE)\n",
    "test_loader = make_loader(test_catdog_others, batch_size=BATCH_SIZE)\n",
    "\n",
    "model1 = ResNet(num_classes=1).to(device)\n",
    "optimizer1 = optim.Adam(model1.parameters(), lr=0.001, weight_decay=1e-4)\n",
    "train(model1, optimizer1, criterion, EPOCHS, 'catsdogs_vs_others.pth')\n",
    "\n",
    "model1.load_state_dict(torch.load('catsdogs_vs_others.pth', weights_only=True))"
   ]
  },
  {
   "cell_type": "code",
   "execution_count": 19,
   "id": "01bb4906-631e-4aaf-ac4f-7f98563e0cf0",
   "metadata": {},
   "outputs": [
    {
     "data": {
      "image/png": "[encoded data removed]",
      "text/plain": [
       "<Figure size 640x480 with 1 Axes>"
      ]
     },
     "metadata": {},
     "output_type": "display_data"
    },
    {
     "data": {
      "image/png": "[encoded data removed]",
      "text/plain": [
       "<Figure size 640x480 with 1 Axes>"
      ]
     },
     "metadata": {},
     "output_type": "display_data"
    },
    {
     "name": "stdout",
     "output_type": "stream",
     "text": [
      "Loss: 0.3246709646502878\n",
      "Acc: 0.8908689271887099\n"
     ]
    },
    {
     "data": {
      "text/plain": [
       "<All keys matched successfully>"
      ]
     },
     "execution_count": 19,
     "metadata": {},
     "output_type": "execute_result"
    }
   ],
   "source": [
    "print(\"Training Model 2 (on ResNet): Cats vs Dogs\")\n",
    "train_loader = make_loader(train_cats_dogs, batch_size=BATCH_SIZE)\n",
    "test_loader = make_loader(test_cats_dogs, batch_size=BATCH_SIZE)\n",
    "\n",
    "model2 = ResNet(num_classes=1).to(device)\n",
    "optimizer2 = optim.Adam(model2.parameters(), lr=0.001, weight_decay=1e-4)\n",
    "train(model2, optimizer2, criterion, 15, 'cats_vs_dogs_Res34.pth', all_classes=False)\n",
    "\n",
    "model2.load_state_dict(torch.load('cats_vs_dogs_Res34.pth', weights_only=True))"
   ]
  },
  {
   "cell_type": "code",
   "execution_count": null,
   "id": "0b25c5a4-fdb4-49ae-a8f3-0ab24aa67593",
   "metadata": {},
   "outputs": [
    {
     "name": "stdout",
     "output_type": "stream",
     "text": [
      "Training Model 2 (on VGG): Cats vs Dogs\n",
      "Epoch 1/30\n",
      "Training...\n",
      "Batch 1/625\n"
     ]
    }
   ],
   "source": [
    "print(\"Training Model 2 (on VGG): Cats vs Dogs\")\n",
    "train_loader = make_loader(train_cats_dogs, batch_size=BATCH_SIZE)\n",
    "test_loader = make_loader(test_cats_dogs, batch_size=BATCH_SIZE)\n",
    "\n",
    "modelVGG = VGG19Binary().to(device)\n",
    "optimizerVGG = optim.Adam(modelVGG.parameters(), lr=0.001, weight_decay=1e-4)\n",
    "train(modelVGG, optimizerVGG, criterion, EPOCHS, 'cats_vs_dogs_VGG19.pth', all_classes=False)\n",
    "\n",
    "modelVGG.load_state_dict(torch.load('cats_vs_dogs_VGG19.pth', weights_only=True))"
   ]
  },
  {
   "cell_type": "code",
   "execution_count": 34,
   "id": "180d695d-5499-4ba7-aa56-195ba7bc0287",
   "metadata": {},
   "outputs": [],
   "source": [
    "class Ensemble:\n",
    "    def __init__(self, model1, model2):\n",
    "        \"\"\"\n",
    "        model1: \"Cats & Dogs vs Others\".\n",
    "        model2: \"Cats vs Dogs\".\n",
    "        \"\"\"\n",
    "        self.model1 = model1\n",
    "        self.model2 = model2\n",
    "\n",
    "    def eval(self, image, device='cuda'):\n",
    "        self.model1.eval()\n",
    "        self.model2.eval()\n",
    "\n",
    "        with torch.no_grad():\n",
    "            sigmoid = nn.Sigmoid()\n",
    "            # Прогон через первую модель (Cats & Dogs vs Others)\n",
    "            output1 = self.model1(image.to(device))\n",
    "            prob1 = (sigmoid(output1) >= 0.5).int()\n",
    "            if prob1[0] == 1:  # \"Другое\"\n",
    "                return torch.tensor([2]).to(device)\n",
    "\n",
    "            # Прогон через вторую модель (Cats vs Dogs)\n",
    "            output2 = self.model2(image.to(device))\n",
    "            prob2 = (sigmoid(output2) >= 0.5).int()\n",
    "\n",
    "            return prob2[0]  # 0 - Кошка, 1 - Собака\n",
    "    def check_acc(self, test_loader):\n",
    "        mean = [0.485, 0.456, 0.406]\n",
    "        std = [0.229, 0.224, 0.225]\n",
    "        res = []\n",
    "        for batch_num, (x_batch, y_batch) in enumerate(test_loader):\n",
    "            print(f\"Batch {batch_num+1}/{len(test_loader)}\")\n",
    "            # image = x_batch[0]\n",
    "            # image_denorm = denormalize_image(image, mean, std)\n",
    "            # plt.imshow(np.transpose(image_denorm, (1, 2, 0)))  # Переводим [C, H, W] -> [H, W, C]\n",
    "            # plt.show()\n",
    "            pred = self.eval(x_batch)\n",
    "            # print(pred, y_batch)\n",
    "            # print(pred, y_batch, pred == y_batch)\n",
    "            res.append((pred == y_batch).int().cpu().numpy())\n",
    "        return np.mean(res)"
   ]
  },
  {
   "cell_type": "code",
   "execution_count": 35,
   "id": "54bd4fdf-7055-4344-8390-5cb570c2f04f",
   "metadata": {},
   "outputs": [],
   "source": [
    "def denormalize_image(tensor, mean, std):\n",
    "    \"\"\"\n",
    "    tensor: Тензор изображения [C, H, W]\n",
    "    mean: Список средних значений нормализации\n",
    "    std: Список стандартных отклонений нормализации\n",
    "    \"\"\"\n",
    "    mean = np.array(mean).reshape(3, 1, 1)\n",
    "    std = np.array(std).reshape(3, 1, 1)\n",
    "    image = tensor.cpu().numpy()  # Перевод в numpy\n",
    "    image = (image * std) + mean  # Отмена нормализации\n",
    "    image = np.clip(image, 0, 1)  # Обрезаем значения в диапазоне [0, 1]\n",
    "    return image"
   ]
  },
  {
   "cell_type": "code",
   "execution_count": 46,
   "id": "1042955e-6074-432d-ad50-eeecd2eda992",
   "metadata": {},
   "outputs": [
    {
     "name": "stdout",
     "output_type": "stream",
     "text": [
      "Accuracy on test data of ResNet34: 92.85%\n",
      "Accuracy on test data of VGG19: 94.38%\n"
     ]
    }
   ],
   "source": [
    "import time\n",
    "\n",
    "test_loader = make_loader(test_data, batch_size=1)\n",
    "# print(test_loader)\n",
    "mean = [0.485, 0.456, 0.406]\n",
    "std = [0.229, 0.224, 0.225]\n",
    "\n",
    "print(\"Check Res34\")\n",
    "ensembleRes34 = Ensemble(model1, model2)\n",
    "a1 = ensembleRes34.check_acc(test_loader)\n",
    "clear_output()\n",
    "print(f\"Accuracy on test data of ResNet34: {100*a1:.2f}%\")"
   ]
  },
  {
   "cell_type": "code",
   "execution_count": null,
   "id": "82da3b67-9173-4c06-9975-78a494575465",
   "metadata": {},
   "outputs": [],
   "source": [
    "print(\"Check VGG\")\n",
    "ensembleVGG = Ensemble(model1, modelVGG)\n",
    "a2 = ensembleVGG.check_acc(test_loader)\n",
    "clear_output()\n",
    "print(f\"Accuracy on test data of VGG19: {100*a2:.2f}%\")"
   ]
  }
 ],
 "metadata": {
  "kernelspec": {
   "display_name": "Python 3 (ipykernel)",
   "language": "python",
   "name": "python3"
  },
  "language_info": {
   "codemirror_mode": {
    "name": "ipython",
    "version": 3
   },
   "file_extension": ".py",
   "mimetype": "text/x-python",
   "name": "python",
   "nbconvert_exporter": "python",
   "pygments_lexer": "ipython3",
   "version": "3.9.21"
  }
 },
 "nbformat": 4,
 "nbformat_minor": 5
}
